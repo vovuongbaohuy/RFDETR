{
 "cells": [
  {
   "cell_type": "markdown",
   "metadata": {},
   "source": [
    "## Split training dataset to train and valid dataset (70/20/10)"
   ]
  },
  {
   "cell_type": "code",
   "execution_count": 5,
   "metadata": {},
   "outputs": [
    {
     "name": "stdout",
     "output_type": "stream",
     "text": [
      "📂 Categories in dataset:\n",
      "ID: 0, Name: three_wheels\n",
      "ID: 1, Name: bus\n",
      "ID: 2, Name: car\n",
      "ID: 3, Name: tractor\n",
      "ID: 4, Name: truck\n",
      "ID: 5, Name: ambulance\n",
      "ID: 6, Name: van\n",
      "ID: 7, Name: motorbikes\n",
      "\n",
      "👉 Total categories: 8\n"
     ]
    }
   ],
   "source": [
    "import json\n",
    "\n",
    "# Path to your annotation file\n",
    "ann_file = r\"data\\merged_dataset\\train\\_annotations.coco.json\"\n",
    "\n",
    "with open(ann_file, \"r\") as f:\n",
    "    coco = json.load(f)\n",
    "\n",
    "print(\"📂 Categories in dataset:\")\n",
    "for cat in coco[\"categories\"]:\n",
    "    print(f\"ID: {cat['id']}, Name: {cat['name']}\")\n",
    "\n",
    "print(\"\\n👉 Total categories:\", len(coco[\"categories\"]))\n"
   ]
  },
  {
   "cell_type": "markdown",
   "metadata": {},
   "source": [
    "## Training on Merge Dataset"
   ]
  },
  {
   "cell_type": "code",
   "execution_count": 2,
   "metadata": {},
   "outputs": [
    {
     "name": "stdout",
     "output_type": "stream",
     "text": [
      "Using a different number of positional encodings than DINOv2, which means we're not loading DINOv2 backbone weights. This is not a problem if finetuning a pretrained RF-DETR model.\n",
      "Using patch size 16 instead of 14, which means we're not loading DINOv2 backbone weights. This is not a problem if finetuning a pretrained RF-DETR model.\n",
      "Loading pretrain weights\n"
     ]
    },
    {
     "name": "stderr",
     "output_type": "stream",
     "text": [
      "num_classes mismatch: model has 90 classes, but your dataset has 8 classes\n",
      "reinitializing your detection head with 8 classes.\n"
     ]
    },
    {
     "name": "stdout",
     "output_type": "stream",
     "text": [
      "Unable to initialize TensorBoard. Logging is turned off for this session.  Run 'pip install tensorboard' to enable logging.\n",
      "Not using distributed mode\n",
      "git:\n",
      "  sha: N/A, status: clean, branch: N/A\n",
      "\n",
      "Namespace(num_classes=8, grad_accum_steps=4, amp=True, lr=0.0001, lr_encoder=0.00015, batch_size=4, weight_decay=0.0001, epochs=50, lr_drop=100, clip_max_norm=0.1, lr_vit_layer_decay=0.8, lr_component_decay=0.7, do_benchmark=False, dropout=0, drop_path=0.0, drop_mode='standard', drop_schedule='constant', cutoff_epoch=0, pretrained_encoder=None, pretrain_weights='rf-detr-medium.pth', pretrain_exclude_keys=None, pretrain_keys_modify_to_load=None, pretrained_distiller=None, encoder='dinov2_windowed_small', vit_encoder_num_layers=12, window_block_indexes=None, position_embedding='sine', out_feature_indexes=[3, 6, 9, 12], freeze_encoder=False, layer_norm=True, rms_norm=False, backbone_lora=False, force_no_pretrain=False, dec_layers=4, dim_feedforward=2048, hidden_dim=256, sa_nheads=8, ca_nheads=16, num_queries=300, group_detr=13, two_stage=True, projector_scale=['P4'], lite_refpoint_refine=True, num_select=300, dec_n_points=2, decoder_norm='LN', bbox_reparam=True, freeze_batch_norm=False, set_cost_class=2, set_cost_bbox=5, set_cost_giou=2, cls_loss_coef=1.0, bbox_loss_coef=5, giou_loss_coef=2, focal_alpha=0.25, aux_loss=True, sum_group_losses=False, use_varifocal_loss=False, use_position_supervised_loss=False, ia_bce_loss=True, dataset_file='roboflow', coco_path=None, dataset_dir='data\\\\merged_dataset', square_resize_div_64=True, output_dir='./output_rfdetr_merge_dataset', dont_save_weights=False, checkpoint_interval=10, seed=42, resume='', start_epoch=0, eval=False, use_ema=True, ema_decay=0.993, ema_tau=100, num_workers=2, device='cuda', world_size=1, dist_url='env://', sync_bn=True, fp16_eval=False, encoder_only=False, backbone_only=False, resolution=576, use_cls_token=False, multi_scale=True, expanded_scales=True, do_random_resize_via_padding=False, warmup_epochs=0, lr_scheduler='step', lr_min_factor=0.0, early_stopping=False, early_stopping_patience=10, early_stopping_min_delta=0.001, early_stopping_use_ema=False, gradient_checkpointing=False, patch_size=16, num_windows=2, positional_encoding_size=36, tensorboard=True, wandb=False, project=None, run=None, class_names=['three_wheels', 'bus', 'car', 'tractor', 'truck', 'ambulance', 'van', 'motorbikes'], run_test=True, distributed=False)\n",
      "number of params: 33388824\n",
      "[736]\n",
      "loading annotations into memory...\n",
      "Done (t=0.07s)\n",
      "creating index...\n",
      "index created!\n",
      "[736]\n",
      "loading annotations into memory...\n",
      "Done (t=0.03s)\n",
      "creating index...\n",
      "index created!\n",
      "[736]\n",
      "loading annotations into memory...\n",
      "Done (t=0.01s)\n",
      "creating index...\n",
      "index created!\n",
      "Get benchmark\n",
      "Start training\n",
      "Grad accum steps:  4\n",
      "Total batch size:  16\n",
      "LENGTH OF DATA LOADER: 213\n",
      "Epoch: [0]  [  0/213]  eta: 1:24:12  lr: 0.000100  class_error: 72.53  loss: 9.6254 (9.6254)  loss_ce: 1.3528 (1.3528)  loss_bbox: 0.2898 (0.2898)  loss_giou: 0.1919 (0.1919)  loss_ce_0: 1.2969 (1.2969)  loss_bbox_0: 0.3976 (0.3976)  loss_giou_0: 0.2917 (0.2917)  loss_ce_1: 1.3405 (1.3405)  loss_bbox_1: 0.3016 (0.3016)  loss_giou_1: 0.2095 (0.2095)  loss_ce_2: 1.3427 (1.3427)  loss_bbox_2: 0.3073 (0.3073)  loss_giou_2: 0.1997 (0.1997)  loss_ce_enc: 1.2590 (1.2590)  loss_bbox_enc: 0.4931 (0.4931)  loss_giou_enc: 0.3515 (0.3515)  loss_ce_unscaled: 1.3528 (1.3528)  class_error_unscaled: 72.5275 (72.5275)  loss_bbox_unscaled: 0.0580 (0.0580)  loss_giou_unscaled: 0.0959 (0.0959)  cardinality_error_unscaled: 3897.7500 (3897.7500)  loss_ce_0_unscaled: 1.2969 (1.2969)  loss_bbox_0_unscaled: 0.0795 (0.0795)  loss_giou_0_unscaled: 0.1458 (0.1458)  cardinality_error_0_unscaled: 3835.2500 (3835.2500)  loss_ce_1_unscaled: 1.3405 (1.3405)  loss_bbox_1_unscaled: 0.0603 (0.0603)  loss_giou_1_unscaled: 0.1048 (0.1048)  cardinality_error_1_unscaled: 3897.0000 (3897.0000)  loss_ce_2_unscaled: 1.3427 (1.3427)  loss_bbox_2_unscaled: 0.0615 (0.0615)  loss_giou_2_unscaled: 0.0998 (0.0998)  cardinality_error_2_unscaled: 3894.7500 (3894.7500)  loss_ce_enc_unscaled: 1.2590 (1.2590)  loss_bbox_enc_unscaled: 0.0986 (0.0986)  loss_giou_enc_unscaled: 0.1757 (0.1757)  cardinality_error_enc_unscaled: 3535.7500 (3535.7500)  time: 23.7230  data: 19.1460  max mem: 4516\n",
      "Epoch: [0]  [ 10/213]  eta: 0:21:02  lr: 0.000100  class_error: 54.49  loss: 9.5050 (9.4281)  loss_ce: 1.3201 (1.3144)  loss_bbox: 0.2716 (0.2602)  loss_giou: 0.2669 (0.2763)  loss_ce_0: 1.2969 (1.2837)  loss_bbox_0: 0.2712 (0.2793)  loss_giou_0: 0.2917 (0.3188)  loss_ce_1: 1.3088 (1.2991)  loss_bbox_1: 0.2519 (0.2638)  loss_giou_1: 0.2913 (0.2936)  loss_ce_2: 1.3132 (1.3064)  loss_bbox_2: 0.2575 (0.2563)  loss_giou_2: 0.2542 (0.2785)  loss_ce_enc: 1.2590 (1.2400)  loss_bbox_enc: 0.3444 (0.3648)  loss_giou_enc: 0.3515 (0.3928)  loss_ce_unscaled: 1.3201 (1.3144)  class_error_unscaled: 71.1538 (68.1496)  loss_bbox_unscaled: 0.0543 (0.0520)  loss_giou_unscaled: 0.1335 (0.1382)  cardinality_error_unscaled: 3893.5000 (3892.4773)  loss_ce_0_unscaled: 1.2969 (1.2837)  loss_bbox_0_unscaled: 0.0542 (0.0559)  loss_giou_0_unscaled: 0.1458 (0.1594)  cardinality_error_0_unscaled: 3821.7500 (3819.3864)  loss_ce_1_unscaled: 1.3088 (1.2991)  loss_bbox_1_unscaled: 0.0504 (0.0528)  loss_giou_1_unscaled: 0.1456 (0.1468)  cardinality_error_1_unscaled: 3894.2500 (3894.5682)  loss_ce_2_unscaled: 1.3132 (1.3064)  loss_bbox_2_unscaled: 0.0515 (0.0513)  loss_giou_2_unscaled: 0.1271 (0.1392)  cardinality_error_2_unscaled: 3889.0000 (3890.3636)  loss_ce_enc_unscaled: 1.2590 (1.2400)  loss_bbox_enc_unscaled: 0.0689 (0.0730)  loss_giou_enc_unscaled: 0.1757 (0.1964)  cardinality_error_enc_unscaled: 3565.7500 (3564.7045)  time: 6.2171  data: 1.7524  max mem: 4868\n",
      "Epoch: [0]  [ 20/213]  eta: 0:17:15  lr: 0.000100  class_error: 72.53  loss: 9.5050 (9.5752)  loss_ce: 1.3063 (1.2999)  loss_bbox: 0.2440 (0.2475)  loss_giou: 0.2954 (0.3035)  loss_ce_0: 1.2612 (1.2649)  loss_bbox_0: 0.2712 (0.3025)  loss_giou_0: 0.3353 (0.3660)  loss_ce_1: 1.2707 (1.2837)  loss_bbox_1: 0.2510 (0.2657)  loss_giou_1: 0.3150 (0.3353)  loss_ce_2: 1.2878 (1.2917)  loss_bbox_2: 0.2449 (0.2496)  loss_giou_2: 0.2875 (0.3113)  loss_ce_enc: 1.2191 (1.2200)  loss_bbox_enc: 0.3565 (0.3888)  loss_giou_enc: 0.4029 (0.4447)  loss_ce_unscaled: 1.3063 (1.2999)  class_error_unscaled: 61.5385 (61.4693)  loss_bbox_unscaled: 0.0488 (0.0495)  loss_giou_unscaled: 0.1477 (0.1518)  cardinality_error_unscaled: 3886.0000 (3880.2738)  loss_ce_0_unscaled: 1.2612 (1.2649)  loss_bbox_0_unscaled: 0.0542 (0.0605)  loss_giou_0_unscaled: 0.1676 (0.1830)  cardinality_error_0_unscaled: 3826.0000 (3818.6310)  loss_ce_1_unscaled: 1.2707 (1.2837)  loss_bbox_1_unscaled: 0.0502 (0.0531)  loss_giou_1_unscaled: 0.1575 (0.1677)  cardinality_error_1_unscaled: 3890.0000 (3884.6071)  loss_ce_2_unscaled: 1.2878 (1.2917)  loss_bbox_2_unscaled: 0.0490 (0.0499)  loss_giou_2_unscaled: 0.1438 (0.1557)  cardinality_error_2_unscaled: 3885.5000 (3874.5119)  loss_ce_enc_unscaled: 1.2191 (1.2200)  loss_bbox_enc_unscaled: 0.0713 (0.0778)  loss_giou_enc_unscaled: 0.2015 (0.2224)  cardinality_error_enc_unscaled: 3572.5000 (3572.2143)  time: 4.4447  data: 0.0125  max mem: 5047\n",
      "Epoch: [0]  [ 30/213]  eta: 0:15:26  lr: 0.000100  class_error: 47.69  loss: 9.7493 (9.5827)  loss_ce: 1.2445 (1.2738)  loss_bbox: 0.2398 (0.2493)  loss_giou: 0.3425 (0.3136)  loss_ce_0: 1.2270 (1.2589)  loss_bbox_0: 0.3063 (0.3033)  loss_giou_0: 0.4130 (0.3816)  loss_ce_1: 1.2567 (1.2776)  loss_bbox_1: 0.2697 (0.2622)  loss_giou_1: 0.3878 (0.3432)  loss_ce_2: 1.2574 (1.2753)  loss_bbox_2: 0.2517 (0.2515)  loss_giou_2: 0.3435 (0.3222)  loss_ce_enc: 1.1922 (1.2129)  loss_bbox_enc: 0.4061 (0.3933)  loss_giou_enc: 0.4951 (0.4640)  loss_ce_unscaled: 1.2445 (1.2738)  class_error_unscaled: 44.3787 (53.4664)  loss_bbox_unscaled: 0.0480 (0.0499)  loss_giou_unscaled: 0.1713 (0.1568)  cardinality_error_unscaled: 3841.5000 (3844.9677)  loss_ce_0_unscaled: 1.2270 (1.2589)  loss_bbox_0_unscaled: 0.0613 (0.0607)  loss_giou_0_unscaled: 0.2065 (0.1908)  cardinality_error_0_unscaled: 3799.0000 (3803.5726)  loss_ce_1_unscaled: 1.2567 (1.2776)  loss_bbox_1_unscaled: 0.0539 (0.0524)  loss_giou_1_unscaled: 0.1939 (0.1716)  cardinality_error_1_unscaled: 3864.7500 (3851.4355)  loss_ce_2_unscaled: 1.2574 (1.2753)  loss_bbox_2_unscaled: 0.0503 (0.0503)  loss_giou_2_unscaled: 0.1717 (0.1611)  cardinality_error_2_unscaled: 3834.0000 (3829.8629)  loss_ce_enc_unscaled: 1.1922 (1.2129)  loss_bbox_enc_unscaled: 0.0812 (0.0787)  loss_giou_enc_unscaled: 0.2475 (0.2320)  cardinality_error_enc_unscaled: 3600.0000 (3589.2339)  time: 4.4275  data: 0.0122  max mem: 5047\n",
      "Epoch: [0]  [ 40/213]  eta: 0:14:10  lr: 0.000100  class_error: 13.19  loss: 9.0736 (9.4162)  loss_ce: 1.1944 (1.2484)  loss_bbox: 0.2448 (0.2495)  loss_giou: 0.2766 (0.2915)  loss_ce_0: 1.3069 (1.2802)  loss_bbox_0: 0.2308 (0.2869)  loss_giou_0: 0.2918 (0.3488)  loss_ce_1: 1.2881 (1.2839)  loss_bbox_1: 0.2577 (0.2602)  loss_giou_1: 0.2581 (0.3169)  loss_ce_2: 1.2436 (1.2650)  loss_bbox_2: 0.2594 (0.2530)  loss_giou_2: 0.2710 (0.3004)  loss_ce_enc: 1.2696 (1.2368)  loss_bbox_enc: 0.2666 (0.3689)  loss_giou_enc: 0.3550 (0.4260)  loss_ce_unscaled: 1.1944 (1.2484)  class_error_unscaled: 23.0769 (46.6671)  loss_bbox_unscaled: 0.0490 (0.0499)  loss_giou_unscaled: 0.1383 (0.1458)  cardinality_error_unscaled: 3733.0000 (3804.6280)  loss_ce_0_unscaled: 1.3069 (1.2802)  loss_bbox_0_unscaled: 0.0462 (0.0574)  loss_giou_0_unscaled: 0.1459 (0.1744)  cardinality_error_0_unscaled: 3731.7500 (3776.2378)  loss_ce_1_unscaled: 1.2881 (1.2839)  loss_bbox_1_unscaled: 0.0515 (0.0520)  loss_giou_1_unscaled: 0.1290 (0.1584)  cardinality_error_1_unscaled: 3753.7500 (3816.0000)  loss_ce_2_unscaled: 1.2436 (1.2650)  loss_bbox_2_unscaled: 0.0519 (0.0506)  loss_giou_2_unscaled: 0.1355 (0.1502)  cardinality_error_2_unscaled: 3705.2500 (3774.0732)  loss_ce_enc_unscaled: 1.2696 (1.2368)  loss_bbox_enc_unscaled: 0.0533 (0.0738)  loss_giou_enc_unscaled: 0.1775 (0.2130)  cardinality_error_enc_unscaled: 3616.7500 (3599.5854)  time: 4.4499  data: 0.0126  max mem: 5047\n",
      "Epoch: [0]  [ 50/213]  eta: 0:13:08  lr: 0.000100  class_error: 21.37  loss: 9.0327 (9.3309)  loss_ce: 1.0971 (1.2080)  loss_bbox: 0.2520 (0.2534)  loss_giou: 0.2766 (0.2961)  loss_ce_0: 1.3068 (1.2814)  loss_bbox_0: 0.2308 (0.2825)  loss_giou_0: 0.2918 (0.3460)  loss_ce_1: 1.2155 (1.2652)  loss_bbox_1: 0.2577 (0.2625)  loss_giou_1: 0.2907 (0.3209)  loss_ce_2: 1.1313 (1.2301)  loss_bbox_2: 0.2560 (0.2569)  loss_giou_2: 0.2938 (0.3058)  loss_ce_enc: 1.2759 (1.2408)  loss_bbox_enc: 0.2889 (0.3588)  loss_giou_enc: 0.3575 (0.4227)  loss_ce_unscaled: 1.0971 (1.2080)  class_error_unscaled: 21.3675 (42.1903)  loss_bbox_unscaled: 0.0504 (0.0507)  loss_giou_unscaled: 0.1383 (0.1480)  cardinality_error_unscaled: 3692.7500 (3780.6716)  loss_ce_0_unscaled: 1.3068 (1.2814)  loss_bbox_0_unscaled: 0.0462 (0.0565)  loss_giou_0_unscaled: 0.1459 (0.1730)  cardinality_error_0_unscaled: 3720.0000 (3750.0294)  loss_ce_1_unscaled: 1.2155 (1.2652)  loss_bbox_1_unscaled: 0.0515 (0.0525)  loss_giou_1_unscaled: 0.1454 (0.1604)  cardinality_error_1_unscaled: 3681.7500 (3781.9461)  loss_ce_2_unscaled: 1.1313 (1.2301)  loss_bbox_2_unscaled: 0.0512 (0.0514)  loss_giou_2_unscaled: 0.1469 (0.1529)  cardinality_error_2_unscaled: 3611.5000 (3736.5833)  loss_ce_enc_unscaled: 1.2759 (1.2408)  loss_bbox_enc_unscaled: 0.0578 (0.0718)  loss_giou_enc_unscaled: 0.1787 (0.2113)  cardinality_error_enc_unscaled: 3640.7500 (3608.9853)  time: 4.4833  data: 0.0128  max mem: 5047\n",
      "Epoch: [0]  [ 60/213]  eta: 0:12:10  lr: 0.000100  class_error: 15.38  loss: 8.8191 (9.2190)  loss_ce: 1.0430 (1.1837)  loss_bbox: 0.2679 (0.2544)  loss_giou: 0.3053 (0.2896)  loss_ce_0: 1.2631 (1.2875)  loss_bbox_0: 0.2211 (0.2763)  loss_giou_0: 0.3094 (0.3336)  loss_ce_1: 1.1857 (1.2523)  loss_bbox_1: 0.2484 (0.2606)  loss_giou_1: 0.3417 (0.3115)  loss_ce_2: 1.1001 (1.2061)  loss_bbox_2: 0.2563 (0.2568)  loss_giou_2: 0.3299 (0.2989)  loss_ce_enc: 1.2555 (1.2536)  loss_bbox_enc: 0.2899 (0.3490)  loss_giou_enc: 0.3648 (0.4051)  loss_ce_unscaled: 1.0430 (1.1837)  class_error_unscaled: 21.3675 (38.6584)  loss_bbox_unscaled: 0.0536 (0.0509)  loss_giou_unscaled: 0.1527 (0.1448)  cardinality_error_unscaled: 3776.2500 (3781.6885)  loss_ce_0_unscaled: 1.2631 (1.2875)  loss_bbox_0_unscaled: 0.0442 (0.0553)  loss_giou_0_unscaled: 0.1547 (0.1668)  cardinality_error_0_unscaled: 3736.0000 (3738.0984)  loss_ce_1_unscaled: 1.1857 (1.2523)  loss_bbox_1_unscaled: 0.0497 (0.0521)  loss_giou_1_unscaled: 0.1709 (0.1558)  cardinality_error_1_unscaled: 3663.0000 (3764.3320)  loss_ce_2_unscaled: 1.1001 (1.2061)  loss_bbox_2_unscaled: 0.0513 (0.0514)  loss_giou_2_unscaled: 0.1649 (0.1494)  cardinality_error_2_unscaled: 3684.7500 (3736.5779)  loss_ce_enc_unscaled: 1.2555 (1.2536)  loss_bbox_enc_unscaled: 0.0580 (0.0698)  loss_giou_enc_unscaled: 0.1824 (0.2026)  cardinality_error_enc_unscaled: 3645.2500 (3614.9221)  time: 4.4746  data: 0.0131  max mem: 5047\n"
     ]
    }
   ],
   "source": [
    "from rfdetr import RFDETRMedium\n",
    "\n",
    "# Initialize model (medium backbone version of RF-DETR)\n",
    "model = RFDETRMedium()\n",
    "\n",
    "# Train on your dataset\n",
    "model.train(\n",
    "    dataset_dir=r\"data\\merged_dataset\",  # path to your dataset\n",
    "    epochs=50,            # number of training epochs\n",
    "    batch_size=4,         # number of samples per batch\n",
    "    grad_accum_steps=4,   # accumulate gradients to simulate a larger batch\n",
    "    lr=1e-4,              # learning rate\n",
    "    output_dir=r\"./output_rfdetr_merge_dataset\"  # where checkpoints & logs will be saved\n",
    ")\n"
   ]
  }
 ],
 "metadata": {
  "kernelspec": {
   "display_name": "venv",
   "language": "python",
   "name": "python3"
  },
  "language_info": {
   "codemirror_mode": {
    "name": "ipython",
    "version": 3
   },
   "file_extension": ".py",
   "mimetype": "text/x-python",
   "name": "python",
   "nbconvert_exporter": "python",
   "pygments_lexer": "ipython3",
   "version": "3.12.4"
  }
 },
 "nbformat": 4,
 "nbformat_minor": 2
}
