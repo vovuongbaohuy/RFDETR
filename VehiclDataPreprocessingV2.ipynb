{
 "cells": [
  {
   "cell_type": "code",
   "execution_count": 24,
   "metadata": {},
   "outputs": [],
   "source": [
    "import json\n",
    "from collections import defaultdict\n",
    "\n",
    "def analyze_coco_dataset(ann_file):\n",
    "    # Load COCO annotations\n",
    "    with open(ann_file, \"r\") as f:\n",
    "        coco = json.load(f)\n",
    "\n",
    "    # Build category mapping\n",
    "    categories = {cat[\"id\"]: cat[\"name\"] for cat in coco[\"categories\"]}\n",
    "\n",
    "    # Track images per class\n",
    "    class_to_images = defaultdict(set)  # use set to avoid double counting\n",
    "    for ann in coco[\"annotations\"]:\n",
    "        class_id = ann[\"category_id\"]\n",
    "        image_id = ann[\"image_id\"]\n",
    "        class_to_images[class_id].add(image_id)\n",
    "\n",
    "    # Print summary\n",
    "    print(\"Categories in dataset:\")\n",
    "    for class_id, class_name in categories.items():\n",
    "        num_images = len(class_to_images[class_id])\n",
    "        print(f\"ID: {class_id}, Name: {class_name}, Images: {num_images}\")\n",
    "\n",
    "    print(\"Total categories:\", len(categories))\n",
    "    print(\"Total images:\", len(coco[\"images\"]))\n"
   ]
  },
  {
   "cell_type": "markdown",
   "metadata": {},
   "source": [
    "## Inspect and Format Bus Dataset"
   ]
  },
  {
   "cell_type": "code",
   "execution_count": 26,
   "metadata": {},
   "outputs": [
    {
     "name": "stdout",
     "output_type": "stream",
     "text": [
      "Train:\n",
      "Categories in dataset:\n",
      "ID: 0, Name: t-ZsBF, Images: 0\n",
      "ID: 1, Name: bus, Images: 3960\n",
      "Total categories: 2\n",
      "Total images: 3960\n",
      "\n",
      "Valid:\n",
      "Categories in dataset:\n",
      "ID: 0, Name: t-ZsBF, Images: 0\n",
      "ID: 1, Name: bus, Images: 467\n",
      "Total categories: 2\n",
      "Total images: 467\n",
      "\n",
      "Test:\n",
      "Categories in dataset:\n",
      "ID: 0, Name: t-ZsBF, Images: 0\n",
      "ID: 1, Name: bus, Images: 220\n",
      "Total categories: 2\n",
      "Total images: 220\n"
     ]
    }
   ],
   "source": [
    "#train\n",
    "print(\"Train:\")\n",
    "ann_file = r\"Buses\\train\\_annotations.coco.json\"\n",
    "analyze_coco_dataset(ann_file)\n",
    "print(\"\\nValid:\")\n",
    "ann_file = r\"Buses\\valid\\_annotations.coco.json\"\n",
    "analyze_coco_dataset(ann_file)\n",
    "print(\"\\nTest:\")\n",
    "ann_file = r\"Buses\\test\\_annotations.coco.json\"\n",
    "analyze_coco_dataset(ann_file)"
   ]
  },
  {
   "cell_type": "code",
   "execution_count": 27,
   "metadata": {},
   "outputs": [],
   "source": [
    "import json\n",
    "\n",
    "def clean_coco_dataset(input_file, output_file):\n",
    "    with open(input_file, \"r\") as f:\n",
    "        coco = json.load(f)\n",
    "\n",
    "    # Keep only category \"bus\" (id=1) but change its id to 0\n",
    "    new_categories = []\n",
    "    old_to_new_cat_id = {}\n",
    "\n",
    "    for cat in coco[\"categories\"]:\n",
    "        if cat[\"id\"] == 1:  # keep bus\n",
    "            old_to_new_cat_id[1] = 0\n",
    "            new_categories.append({\"id\": 0, \"name\": \"bus\"})\n",
    "\n",
    "    # Update annotations\n",
    "    new_annotations = []\n",
    "    for ann in coco[\"annotations\"]:\n",
    "        if ann[\"category_id\"] in old_to_new_cat_id:\n",
    "            ann[\"category_id\"] = old_to_new_cat_id[ann[\"category_id\"]]\n",
    "            new_annotations.append(ann)\n",
    "\n",
    "    # Build cleaned COCO dict\n",
    "    cleaned_coco = {\n",
    "        \"images\": coco[\"images\"],\n",
    "        \"annotations\": new_annotations,\n",
    "        \"categories\": new_categories\n",
    "    }\n",
    "\n",
    "    # Save new JSON\n",
    "    with open(output_file, \"w\") as f:\n",
    "        json.dump(cleaned_coco, f, indent=2)"
   ]
  },
  {
   "cell_type": "code",
   "execution_count": 28,
   "metadata": {},
   "outputs": [
    {
     "name": "stdout",
     "output_type": "stream",
     "text": [
      "Train:\n",
      "Categories in dataset:\n",
      "ID: 0, Name: bus, Images: 3960\n",
      "Total categories: 1\n",
      "Total images: 3960\n",
      "\n",
      "Valid:\n",
      "Categories in dataset:\n",
      "ID: 0, Name: bus, Images: 467\n",
      "Total categories: 1\n",
      "Total images: 467\n",
      "\n",
      "Test:\n",
      "Categories in dataset:\n",
      "ID: 0, Name: bus, Images: 220\n",
      "Total categories: 1\n",
      "Total images: 220\n"
     ]
    }
   ],
   "source": [
    "# train\n",
    "input_file = r\"Buses\\train\\_annotations.coco.json\"\n",
    "output_file = r\"Buses\\train\\_annotations_cleaned.coco.json\"\n",
    "clean_coco_dataset(input_file, output_file)\n",
    "print(\"Train:\")\n",
    "ann_file = r\"Buses\\train\\_annotations_cleaned.coco.json\"\n",
    "analyze_coco_dataset(ann_file)\n",
    "# valid\n",
    "input_file = r\"Buses\\valid\\_annotations.coco.json\"\n",
    "output_file = r\"Buses\\valid\\_annotations_cleaned.coco.json\"\n",
    "clean_coco_dataset(input_file, output_file)\n",
    "print(\"\\nValid:\")\n",
    "ann_file = r\"Buses\\valid\\_annotations_cleaned.coco.json\"\n",
    "analyze_coco_dataset(ann_file)\n",
    "# test\n",
    "input_file = r\"Buses\\test\\_annotations.coco.json\"\n",
    "output_file = r\"Buses\\test\\_annotations_cleaned.coco.json\"\n",
    "clean_coco_dataset(input_file, output_file)\n",
    "print(\"\\nTest:\")\n",
    "ann_file = r\"Buses\\test\\_annotations_cleaned.coco.json\"\n",
    "analyze_coco_dataset(ann_file)"
   ]
  },
  {
   "cell_type": "markdown",
   "metadata": {},
   "source": [
    "## Inspecting Cars Dataset"
   ]
  },
  {
   "cell_type": "code",
   "execution_count": 29,
   "metadata": {},
   "outputs": [
    {
     "name": "stdout",
     "output_type": "stream",
     "text": [
      "Train:\n",
      "Categories in dataset:\n",
      "ID: 0, Name: Cars, Images: 0\n",
      "ID: 1, Name: car, Images: 447\n",
      "ID: 2, Name: cars, Images: 3483\n",
      "Total categories: 3\n",
      "Total images: 3930\n",
      "\n",
      "Valid:\n",
      "Categories in dataset:\n",
      "ID: 0, Name: Cars, Images: 0\n",
      "ID: 1, Name: car, Images: 8\n",
      "ID: 2, Name: cars, Images: 488\n",
      "Total categories: 3\n",
      "Total images: 496\n",
      "\n",
      "Test:\n",
      "Categories in dataset:\n",
      "ID: 0, Name: Cars, Images: 0\n",
      "ID: 1, Name: car, Images: 28\n",
      "ID: 2, Name: cars, Images: 352\n",
      "Total categories: 3\n",
      "Total images: 380\n"
     ]
    }
   ],
   "source": [
    "#train\n",
    "print(\"Train:\")\n",
    "ann_file = r\"Cars\\train\\_annotations.coco.json\"\n",
    "analyze_coco_dataset(ann_file)\n",
    "print(\"\\nValid:\")\n",
    "ann_file = r\"Cars\\valid\\_annotations.coco.json\"\n",
    "analyze_coco_dataset(ann_file)\n",
    "print(\"\\nTest:\")\n",
    "ann_file = r\"Cars\\test\\_annotations.coco.json\"\n",
    "analyze_coco_dataset(ann_file)"
   ]
  },
  {
   "cell_type": "code",
   "execution_count": 30,
   "metadata": {},
   "outputs": [],
   "source": [
    "import json\n",
    "\n",
    "def clean_coco_dataset(input_file, output_file):\n",
    "    with open(input_file, \"r\") as f:\n",
    "        coco = json.load(f)\n",
    "\n",
    "    # Mapping: old id 1 -> 1, old id 2 -> 1 (merge into 'car')\n",
    "    old_to_new_cat_id = {1: 1, 2: 1}\n",
    "\n",
    "    # Define final category list (only one: car with id=1)\n",
    "    new_categories = [{\"id\": 1, \"name\": \"car\"}]\n",
    "\n",
    "    # Update annotations\n",
    "    new_annotations = []\n",
    "    for ann in coco[\"annotations\"]:\n",
    "        if ann[\"category_id\"] in old_to_new_cat_id:\n",
    "            ann[\"category_id\"] = old_to_new_cat_id[ann[\"category_id\"]]\n",
    "            new_annotations.append(ann)\n",
    "\n",
    "    # Build cleaned COCO dict\n",
    "    cleaned_coco = {\n",
    "        \"images\": coco[\"images\"],\n",
    "        \"annotations\": new_annotations,\n",
    "        \"categories\": new_categories\n",
    "    }\n",
    "\n",
    "    # Save new JSON\n",
    "    with open(output_file, \"w\") as f:\n",
    "        json.dump(cleaned_coco, f, indent=2)"
   ]
  },
  {
   "cell_type": "code",
   "execution_count": 31,
   "metadata": {},
   "outputs": [
    {
     "name": "stdout",
     "output_type": "stream",
     "text": [
      "Train:\n",
      "Categories in dataset:\n",
      "ID: 1, Name: car, Images: 3930\n",
      "Total categories: 1\n",
      "Total images: 3930\n",
      "\n",
      "Valid:\n",
      "Categories in dataset:\n",
      "ID: 1, Name: car, Images: 496\n",
      "Total categories: 1\n",
      "Total images: 496\n",
      "\n",
      "Test:\n",
      "Categories in dataset:\n",
      "ID: 1, Name: car, Images: 380\n",
      "Total categories: 1\n",
      "Total images: 380\n"
     ]
    }
   ],
   "source": [
    "# train\n",
    "input_file = r\"Cars\\train\\_annotations.coco.json\"\n",
    "output_file = r\"Cars\\train\\_annotations_cleaned.coco.json\"\n",
    "clean_coco_dataset(input_file, output_file)\n",
    "print(\"Train:\")\n",
    "ann_file = r\"Cars\\train\\_annotations_cleaned.coco.json\"\n",
    "analyze_coco_dataset(ann_file)\n",
    "# valid\n",
    "input_file = r\"Cars\\valid\\_annotations.coco.json\"\n",
    "output_file = r\"Cars\\valid\\_annotations_cleaned.coco.json\"\n",
    "clean_coco_dataset(input_file, output_file)\n",
    "print(\"\\nValid:\")\n",
    "ann_file = r\"Cars\\valid\\_annotations_cleaned.coco.json\"\n",
    "analyze_coco_dataset(ann_file)\n",
    "# test\n",
    "input_file = r\"Cars\\test\\_annotations.coco.json\"\n",
    "output_file = r\"Cars\\test\\_annotations_cleaned.coco.json\"\n",
    "clean_coco_dataset(input_file, output_file)\n",
    "print(\"\\nTest:\")\n",
    "ann_file = r\"Cars\\test\\_annotations_cleaned.coco.json\"\n",
    "analyze_coco_dataset(ann_file)"
   ]
  },
  {
   "cell_type": "markdown",
   "metadata": {},
   "source": [
    "## Inspecting Trucks Dataset"
   ]
  },
  {
   "cell_type": "code",
   "execution_count": 32,
   "metadata": {},
   "outputs": [
    {
     "name": "stdout",
     "output_type": "stream",
     "text": [
      "Train:\n",
      "Categories in dataset:\n",
      "ID: 0, Name: truck, Images: 0\n",
      "ID: 1, Name: Truck, Images: 711\n",
      "ID: 2, Name: truck, Images: 3192\n",
      "Total categories: 3\n",
      "Total images: 3903\n",
      "\n",
      "Valid:\n",
      "Categories in dataset:\n",
      "ID: 0, Name: truck, Images: 0\n",
      "ID: 1, Name: Truck, Images: 75\n",
      "ID: 2, Name: truck, Images: 388\n",
      "Total categories: 3\n",
      "Total images: 463\n",
      "\n",
      "Test:\n",
      "Categories in dataset:\n",
      "ID: 0, Name: truck, Images: 0\n",
      "ID: 1, Name: Truck, Images: 20\n",
      "ID: 2, Name: truck, Images: 87\n",
      "Total categories: 3\n",
      "Total images: 107\n"
     ]
    }
   ],
   "source": [
    "#train\n",
    "print(\"Train:\")\n",
    "ann_file = r\"Trucks\\train\\_annotations.coco.json\"\n",
    "analyze_coco_dataset(ann_file)\n",
    "print(\"\\nValid:\")\n",
    "ann_file = r\"Trucks\\valid\\_annotations.coco.json\"\n",
    "analyze_coco_dataset(ann_file)\n",
    "print(\"\\nTest:\")\n",
    "ann_file = r\"Trucks\\test\\_annotations.coco.json\"\n",
    "analyze_coco_dataset(ann_file)"
   ]
  },
  {
   "cell_type": "code",
   "execution_count": 36,
   "metadata": {},
   "outputs": [],
   "source": [
    "import json\n",
    "\n",
    "def clean_coco_dataset(input_file, output_file):\n",
    "    with open(input_file, \"r\") as f:\n",
    "        coco = json.load(f)\n",
    "\n",
    "    # Mapping: old id 1 -> 2, keep id 2 as 2\n",
    "    old_to_new_cat_id = {1: 2, 2: 2}\n",
    "\n",
    "    # Define final category list (only one: truck with id=2)\n",
    "    new_categories = [{\"id\": 2, \"name\": \"truck\"}]\n",
    "\n",
    "    # Update annotations\n",
    "    new_annotations = []\n",
    "    for ann in coco[\"annotations\"]:\n",
    "        if ann[\"category_id\"] in old_to_new_cat_id:\n",
    "            ann[\"category_id\"] = old_to_new_cat_id[ann[\"category_id\"]]\n",
    "            new_annotations.append(ann)\n",
    "\n",
    "    # Build cleaned COCO dict\n",
    "    cleaned_coco = {\n",
    "        \"images\": coco[\"images\"],\n",
    "        \"annotations\": new_annotations,\n",
    "        \"categories\": new_categories\n",
    "    }\n",
    "\n",
    "    # Save new JSON\n",
    "    with open(output_file, \"w\") as f:\n",
    "        json.dump(cleaned_coco, f, indent=2)"
   ]
  },
  {
   "cell_type": "code",
   "execution_count": 37,
   "metadata": {},
   "outputs": [
    {
     "name": "stdout",
     "output_type": "stream",
     "text": [
      "Train:\n",
      "Categories in dataset:\n",
      "ID: 2, Name: truck, Images: 3903\n",
      "Total categories: 1\n",
      "Total images: 3903\n",
      "\n",
      "Valid:\n",
      "Categories in dataset:\n",
      "ID: 2, Name: truck, Images: 463\n",
      "Total categories: 1\n",
      "Total images: 463\n",
      "\n",
      "Test:\n",
      "Categories in dataset:\n",
      "ID: 2, Name: truck, Images: 107\n",
      "Total categories: 1\n",
      "Total images: 107\n"
     ]
    }
   ],
   "source": [
    "# train\n",
    "input_file = r\"Trucks\\train\\_annotations.coco.json\"\n",
    "output_file = r\"Trucks\\train\\_annotations_cleaned.coco.json\"\n",
    "clean_coco_dataset(input_file, output_file)\n",
    "print(\"Train:\")\n",
    "ann_file = r\"Trucks\\train\\_annotations_cleaned.coco.json\"\n",
    "analyze_coco_dataset(ann_file)\n",
    "# valid\n",
    "input_file = r\"Trucks\\valid\\_annotations.coco.json\"\n",
    "output_file = r\"Trucks\\valid\\_annotations_cleaned.coco.json\"\n",
    "clean_coco_dataset(input_file, output_file)\n",
    "print(\"\\nValid:\")\n",
    "ann_file = r\"Trucks\\valid\\_annotations_cleaned.coco.json\"\n",
    "analyze_coco_dataset(ann_file)\n",
    "# test\n",
    "input_file = r\"Trucks\\test\\_annotations.coco.json\"\n",
    "output_file = r\"Trucks\\test\\_annotations_cleaned.coco.json\"\n",
    "clean_coco_dataset(input_file, output_file)\n",
    "print(\"\\nTest:\")\n",
    "ann_file = r\"Trucks\\test\\_annotations_cleaned.coco.json\"\n",
    "analyze_coco_dataset(ann_file)"
   ]
  },
  {
   "cell_type": "markdown",
   "metadata": {},
   "source": [
    "## Inspecting Vans Dataset"
   ]
  },
  {
   "cell_type": "code",
   "execution_count": 38,
   "metadata": {},
   "outputs": [
    {
     "name": "stdout",
     "output_type": "stream",
     "text": [
      "Train:\n",
      "Categories in dataset:\n",
      "ID: 0, Name: V, Images: 0\n",
      "ID: 1, Name: 0, Images: 3939\n",
      "Total categories: 2\n",
      "Total images: 3939\n",
      "\n",
      "Valid:\n",
      "Categories in dataset:\n",
      "ID: 0, Name: V, Images: 0\n",
      "ID: 1, Name: 0, Images: 194\n",
      "Total categories: 2\n",
      "Total images: 194\n",
      "\n",
      "Test:\n",
      "Categories in dataset:\n",
      "ID: 0, Name: V, Images: 0\n",
      "ID: 1, Name: 0, Images: 64\n",
      "Total categories: 2\n",
      "Total images: 64\n"
     ]
    }
   ],
   "source": [
    "#train\n",
    "print(\"Train:\")\n",
    "ann_file = r\"Vans\\train\\_annotations.coco.json\"\n",
    "analyze_coco_dataset(ann_file)\n",
    "print(\"\\nValid:\")\n",
    "ann_file = r\"Vans\\valid\\_annotations.coco.json\"\n",
    "analyze_coco_dataset(ann_file)\n",
    "print(\"\\nTest:\")\n",
    "ann_file = r\"Vans\\test\\_annotations.coco.json\"\n",
    "analyze_coco_dataset(ann_file)"
   ]
  },
  {
   "cell_type": "code",
   "execution_count": 39,
   "metadata": {},
   "outputs": [],
   "source": [
    "import json\n",
    "\n",
    "def clean_coco_dataset(input_file, output_file):\n",
    "    with open(input_file, \"r\") as f:\n",
    "        coco = json.load(f)\n",
    "\n",
    "    # Mapping: old id 1 -> 3\n",
    "    old_to_new_cat_id = {1: 3}\n",
    "\n",
    "    # Define final category list (only one: van with id=3)\n",
    "    new_categories = [{\"id\": 3, \"name\": \"van\"}]\n",
    "\n",
    "    # Update annotations\n",
    "    new_annotations = []\n",
    "    for ann in coco[\"annotations\"]:\n",
    "        if ann[\"category_id\"] in old_to_new_cat_id:\n",
    "            ann[\"category_id\"] = old_to_new_cat_id[ann[\"category_id\"]]\n",
    "            new_annotations.append(ann)\n",
    "\n",
    "    # Build cleaned COCO dict\n",
    "    cleaned_coco = {\n",
    "        \"images\": coco[\"images\"],\n",
    "        \"annotations\": new_annotations,\n",
    "        \"categories\": new_categories\n",
    "    }\n",
    "\n",
    "    # Save new JSON\n",
    "    with open(output_file, \"w\") as f:\n",
    "        json.dump(cleaned_coco, f, indent=2)"
   ]
  },
  {
   "cell_type": "code",
   "execution_count": 40,
   "metadata": {},
   "outputs": [
    {
     "name": "stdout",
     "output_type": "stream",
     "text": [
      "Train:\n",
      "Categories in dataset:\n",
      "ID: 3, Name: van, Images: 3939\n",
      "Total categories: 1\n",
      "Total images: 3939\n",
      "\n",
      "Valid:\n",
      "Categories in dataset:\n",
      "ID: 3, Name: van, Images: 194\n",
      "Total categories: 1\n",
      "Total images: 194\n",
      "\n",
      "Test:\n",
      "Categories in dataset:\n",
      "ID: 3, Name: van, Images: 64\n",
      "Total categories: 1\n",
      "Total images: 64\n"
     ]
    }
   ],
   "source": [
    "# train\n",
    "input_file = r\"Vans\\train\\_annotations.coco.json\"\n",
    "output_file = r\"Vans\\train\\_annotations_cleaned.coco.json\"\n",
    "clean_coco_dataset(input_file, output_file)\n",
    "print(\"Train:\")\n",
    "ann_file = r\"Vans\\train\\_annotations_cleaned.coco.json\"\n",
    "analyze_coco_dataset(ann_file)\n",
    "# valid\n",
    "input_file = r\"Vans\\valid\\_annotations.coco.json\"\n",
    "output_file = r\"Vans\\valid\\_annotations_cleaned.coco.json\"\n",
    "clean_coco_dataset(input_file, output_file)\n",
    "print(\"\\nValid:\")\n",
    "ann_file = r\"Vans\\valid\\_annotations_cleaned.coco.json\"\n",
    "analyze_coco_dataset(ann_file)\n",
    "# test\n",
    "input_file = r\"Vans\\test\\_annotations.coco.json\"\n",
    "output_file = r\"Vans\\test\\_annotations_cleaned.coco.json\"\n",
    "clean_coco_dataset(input_file, output_file)\n",
    "print(\"\\nTest:\")\n",
    "ann_file = r\"Vans\\test\\_annotations_cleaned.coco.json\"\n",
    "analyze_coco_dataset(ann_file)"
   ]
  },
  {
   "cell_type": "markdown",
   "metadata": {},
   "source": [
    "## Inspecting Motorcycles"
   ]
  },
  {
   "cell_type": "code",
   "execution_count": 41,
   "metadata": {},
   "outputs": [
    {
     "name": "stdout",
     "output_type": "stream",
     "text": [
      "Train:\n",
      "Categories in dataset:\n",
      "ID: 0, Name: Motorcycle, Images: 0\n",
      "ID: 1, Name: Motorcycle, Images: 3876\n",
      "Total categories: 2\n",
      "Total images: 3924\n",
      "\n",
      "Valid:\n",
      "Categories in dataset:\n",
      "ID: 0, Name: Motorcycle, Images: 0\n",
      "ID: 1, Name: Motorcycle, Images: 489\n",
      "Total categories: 2\n",
      "Total images: 497\n",
      "\n",
      "Test:\n",
      "Categories in dataset:\n",
      "ID: 0, Name: Motorcycle, Images: 0\n",
      "ID: 1, Name: Motorcycle, Images: 193\n",
      "Total categories: 2\n",
      "Total images: 195\n"
     ]
    }
   ],
   "source": [
    "#train\n",
    "print(\"Train:\")\n",
    "ann_file = r\"Motorcycles\\train\\_annotations.coco.json\"\n",
    "analyze_coco_dataset(ann_file)\n",
    "print(\"\\nValid:\")\n",
    "ann_file = r\"Motorcycles\\valid\\_annotations.coco.json\"\n",
    "analyze_coco_dataset(ann_file)\n",
    "print(\"\\nTest:\")\n",
    "ann_file = r\"Motorcycles\\test\\_annotations.coco.json\"\n",
    "analyze_coco_dataset(ann_file)"
   ]
  },
  {
   "cell_type": "code",
   "execution_count": 43,
   "metadata": {},
   "outputs": [],
   "source": [
    "import json\n",
    "\n",
    "def clean_coco_dataset(input_file, output_file):\n",
    "    with open(input_file, \"r\") as f:\n",
    "        coco = json.load(f)\n",
    "\n",
    "    # Mapping: old id 1 -> 4\n",
    "    old_to_new_cat_id = {1: 4}\n",
    "\n",
    "    # Define final category list (only one: motorcycle with id=4)\n",
    "    new_categories = [{\"id\": 4, \"name\": \"motorcycle\"}]\n",
    "\n",
    "    # Update annotations\n",
    "    new_annotations = []\n",
    "    for ann in coco[\"annotations\"]:\n",
    "        if ann[\"category_id\"] in old_to_new_cat_id:\n",
    "            ann[\"category_id\"] = old_to_new_cat_id[ann[\"category_id\"]]\n",
    "            new_annotations.append(ann)\n",
    "\n",
    "    # Build cleaned COCO dict\n",
    "    cleaned_coco = {\n",
    "        \"images\": coco[\"images\"],\n",
    "        \"annotations\": new_annotations,\n",
    "        \"categories\": new_categories\n",
    "    }\n",
    "\n",
    "    # Save new JSON\n",
    "    with open(output_file, \"w\") as f:\n",
    "        json.dump(cleaned_coco, f, indent=2)"
   ]
  },
  {
   "cell_type": "code",
   "execution_count": 44,
   "metadata": {},
   "outputs": [
    {
     "name": "stdout",
     "output_type": "stream",
     "text": [
      "Train:\n",
      "Categories in dataset:\n",
      "ID: 4, Name: motorcycle, Images: 3876\n",
      "Total categories: 1\n",
      "Total images: 3924\n",
      "\n",
      "Valid:\n",
      "Categories in dataset:\n",
      "ID: 4, Name: motorcycle, Images: 489\n",
      "Total categories: 1\n",
      "Total images: 497\n",
      "\n",
      "Test:\n",
      "Categories in dataset:\n",
      "ID: 4, Name: motorcycle, Images: 193\n",
      "Total categories: 1\n",
      "Total images: 195\n"
     ]
    }
   ],
   "source": [
    "# train\n",
    "input_file = r\"Motorcycles\\train\\_annotations.coco.json\"\n",
    "output_file = r\"Motorcycles\\train\\_annotations_cleaned.coco.json\"\n",
    "clean_coco_dataset(input_file, output_file)\n",
    "print(\"Train:\")\n",
    "ann_file = r\"Motorcycles\\train\\_annotations_cleaned.coco.json\"\n",
    "analyze_coco_dataset(ann_file)\n",
    "# valid\n",
    "input_file = r\"Motorcycles\\valid\\_annotations.coco.json\"\n",
    "output_file = r\"Motorcycles\\valid\\_annotations_cleaned.coco.json\"\n",
    "clean_coco_dataset(input_file, output_file)\n",
    "print(\"\\nValid:\")\n",
    "ann_file = r\"Motorcycles\\valid\\_annotations_cleaned.coco.json\"\n",
    "analyze_coco_dataset(ann_file)\n",
    "# test\n",
    "input_file = r\"Motorcycles\\test\\_annotations.coco.json\"\n",
    "output_file = r\"Motorcycles\\test\\_annotations_cleaned.coco.json\"\n",
    "clean_coco_dataset(input_file, output_file)\n",
    "print(\"\\nTest:\")\n",
    "ann_file = r\"Motorcycles\\test\\_annotations_cleaned.coco.json\"\n",
    "analyze_coco_dataset(ann_file)"
   ]
  },
  {
   "cell_type": "markdown",
   "metadata": {},
   "source": [
    "| ClasID       | Class Name |\n",
    "| ------------ | ----------- |\n",
    "| 0            | Bus         |\n",
    "| 1            | Cars        |\n",
    "| 2            | Trucks      |\n",
    "| 3            | Vans        |\n",
    "| 4            | Motorcycle  |\n",
    "\n"
   ]
  }
 ],
 "metadata": {
  "kernelspec": {
   "display_name": ".venv",
   "language": "python",
   "name": "python3"
  },
  "language_info": {
   "codemirror_mode": {
    "name": "ipython",
    "version": 3
   },
   "file_extension": ".py",
   "mimetype": "text/x-python",
   "name": "python",
   "nbconvert_exporter": "python",
   "pygments_lexer": "ipython3",
   "version": "3.12.4"
  }
 },
 "nbformat": 4,
 "nbformat_minor": 2
}
